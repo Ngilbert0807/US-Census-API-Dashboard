{
 "cells": [
  {
   "cell_type": "code",
   "execution_count": 38,
   "id": "79aefe1a",
   "metadata": {},
   "outputs": [],
   "source": [
    "import requests\n",
    "import json\n",
    "import pandas as pd\n",
    "import csv\n",
    "import matplotlib.pyplot as plt\n",
    "from tkinter import *\n",
    "from matplotlib.figure import Figure \n",
    "from matplotlib.backends.backend_tkagg import (FigureCanvasTkAgg,  \n",
    "NavigationToolbar2Tk) "
   ]
  },
  {
   "cell_type": "code",
   "execution_count": 46,
   "id": "ba2a6a9d",
   "metadata": {},
   "outputs": [],
   "source": [
    "root=Tk()\n",
    "\n",
    "\n",
    "def converting_to_csv(year):\n",
    "    house_values=[]\n",
    "    csv_file=open(\"COV.csv\", \"w\", newline=\"\", encoding=\"utf-8\")\n",
    "    csv_writer = csv.writer(csv_file)\n",
    "    csv_writer.writerow([\"State\", \"House Value\", \"Rent\"])\n",
    "    rents=[]\n",
    "    states=[]\n",
    "    house_value=requests.get(f\"https://api.census.gov/data/{year}/acs/acs5?get=NAME,B25077_001E&for=state:*&key={key}\").json()\n",
    "    rent=requests.get(f\"https://api.census.gov/data/{year}/acs/acs5?get=NAME,B25031_001E&for=state:*&key={key}\").json()\n",
    "    for row in house_value[1:]:\n",
    "        value=row[1]\n",
    "        house_values.append(value)\n",
    "    for row in rent[1:]:\n",
    "        price=row[1]\n",
    "        rents.append(price)\n",
    "    for row in rent[1:]:\n",
    "        state=row[0]\n",
    "        states.append(state)\n",
    "    for state, value, rent in zip(states, house_values, rents):\n",
    "        csv_writer.writerow([state,value,rent])\n",
    "    csv_file.close()\n",
    "\n",
    "def chosen_year():\n",
    "    year=value.get()\n",
    "    year_label.config(text=f\"You chose {year}\")\n",
    "    converting_to_csv(year)\n",
    "\n",
    "years=[2015, 2016, 2017, 2018, 2019, 2020, 2021, 2022]\n",
    "value=StringVar()\n",
    "value.set(\"Select a Year\")\n",
    "dropdown=OptionMenu(root, value, *years)\n",
    "dropdown.pack()\n",
    "\n",
    "chosen_button=Button(root, text=\"CLick to Choose\", command=chosen_year)\n",
    "chosen_button.pack()\n",
    "year_label=Label(root, text=\"You haven't chosen a year yet\")\n",
    "year_label.pack()\n",
    "root.mainloop()\n"
   ]
  },
  {
   "cell_type": "code",
   "execution_count": 3,
   "id": "6aad9fca",
   "metadata": {},
   "outputs": [
    {
     "data": {
      "text/plain": [
       "'187500'"
      ]
     },
     "execution_count": 3,
     "metadata": {},
     "output_type": "execute_result"
    }
   ],
   "source": [
    "key= \"82a06b1b6e843caf8a6442ea3d2e5f1b2db849a9\"\n",
    "test_json=requests.get(f\"https://api.census.gov/data/2020/acs/acs5?get=NAME,B25077_001E&for=state:*&key={key}\").json()\n",
    "test_json[1][1]"
   ]
  },
  {
   "cell_type": "code",
   "execution_count": 17,
   "id": "fdf54538",
   "metadata": {},
   "outputs": [
    {
     "data": {
      "text/plain": [
       "[['NAME', 'B25031_001E', 'state'],\n",
       " ['Mississippi', '740', '28'],\n",
       " ['Missouri', '784', '29'],\n",
       " ['Montana', '751', '30'],\n",
       " ['Nebraska', '773', '31'],\n",
       " ['Nevada', '1017', '32'],\n",
       " ['New Hampshire', '1052', '33'],\n",
       " ['New Jersey', '1249', '34'],\n",
       " ['New Mexico', '809', '35'],\n",
       " ['Alabama', '747', '01'],\n",
       " ['Alaska', '1200', '02'],\n",
       " ['Arizona', '972', '04'],\n",
       " ['Arkansas', '709', '05'],\n",
       " ['California', '1358', '06'],\n",
       " ['New York', '1194', '36'],\n",
       " ['North Carolina', '844', '37'],\n",
       " ['North Dakota', '775', '38'],\n",
       " ['Ohio', '764', '39'],\n",
       " ['Oklahoma', '766', '40'],\n",
       " ['Oregon', '988', '41'],\n",
       " ['Pennsylvania', '885', '42'],\n",
       " ['Rhode Island', '957', '44'],\n",
       " ['South Carolina', '836', '45'],\n",
       " ['South Dakota', '696', '46'],\n",
       " ['Tennessee', '808', '47'],\n",
       " ['Texas', '952', '48'],\n",
       " ['Vermont', '945', '50'],\n",
       " ['Utah', '948', '49'],\n",
       " ['Virginia', '1166', '51'],\n",
       " ['Washington', '1120', '53'],\n",
       " ['West Virginia', '681', '54'],\n",
       " ['Wisconsin', '813', '55'],\n",
       " ['Wyoming', '828', '56'],\n",
       " ['Puerto Rico', '464', '72'],\n",
       " ['Delaware', '1076', '10'],\n",
       " ['District of Columbia', '1424', '11'],\n",
       " ['Connecticut', '1123', '09'],\n",
       " ['Florida', '1077', '12'],\n",
       " ['Georgia', '927', '13'],\n",
       " ['Idaho', '792', '16'],\n",
       " ['Hawaii', '1507', '15'],\n",
       " ['Illinois', '952', '17'],\n",
       " ['Indiana', '782', '18'],\n",
       " ['Iowa', '740', '19'],\n",
       " ['Kansas', '801', '20'],\n",
       " ['Kentucky', '713', '21'],\n",
       " ['Louisiana', '825', '22'],\n",
       " ['Maine', '808', '23'],\n",
       " ['Maryland', '1311', '24'],\n",
       " ['Massachusetts', '1173', '25'],\n",
       " ['Michigan', '824', '26'],\n",
       " ['Minnesota', '906', '27'],\n",
       " ['Colorado', '1125', '08']]"
      ]
     },
     "execution_count": 17,
     "metadata": {},
     "output_type": "execute_result"
    }
   ],
   "source": [
    "test2_json=requests.get(f\"https://api.census.gov/data/2017/acs/acs5?get=NAME,B25031_001E&for=state:*&key={key}\").json()\n",
    "test2_json"
   ]
  },
  {
   "cell_type": "code",
   "execution_count": 52,
   "id": "c9e65ef3",
   "metadata": {},
   "outputs": [],
   "source": [
    "root=Tk()\n",
    "def scatter_plot():\n",
    "    fig = plt.Figure()\n",
    "    data = pd.read_csv(\"COV.csv\")\n",
    "    data = data.groupby(\"State\")[[\"House Value\", \"Rent\"]].mean()\n",
    "    scatter = fig.add_subplot(111)\n",
    "    scatter.scatter(data[\"House Value\"], data[\"Rent\"])\n",
    "    canvas = FigureCanvasTkAgg(fig, root)\n",
    "    canvas.draw()\n",
    "    canvas.get_tk_widget().pack()\n",
    "    toolbar = NavigationToolbar2Tk(canvas, root)\n",
    "    toolbar.update()\n",
    "    canvas.get_tk_widget().pack()\n",
    "\n",
    "\n",
    "\n",
    "plot_button=Button(root, text=\"Plot\", command=scatter_plot)\n",
    "plot_button.pack()\n",
    "root.mainloop()\n"
   ]
  },
  {
   "cell_type": "code",
   "execution_count": 7,
   "id": "798f3556",
   "metadata": {},
   "outputs": [
    {
     "data": {
      "text/plain": [
       "[['NAME', 'B25077_001E', 'state', 'county'],\n",
       " ['Alameda County, California', '825300', '06', '001']]"
      ]
     },
     "execution_count": 7,
     "metadata": {},
     "output_type": "execute_result"
    }
   ],
   "source": [
    "response = requests.get(f\"https://api.census.gov/data/2020/acs/acs5?get=NAME,B25077_001E&for=county:001&in=state:06&key={key}\").json()\n",
    "response"
   ]
  },
  {
   "cell_type": "code",
   "execution_count": null,
   "id": "4aae6faa",
   "metadata": {},
   "outputs": [],
   "source": []
  }
 ],
 "metadata": {
  "kernelspec": {
   "display_name": "Python 3 (ipykernel)",
   "language": "python",
   "name": "python3"
  },
  "language_info": {
   "codemirror_mode": {
    "name": "ipython",
    "version": 3
   },
   "file_extension": ".py",
   "mimetype": "text/x-python",
   "name": "python",
   "nbconvert_exporter": "python",
   "pygments_lexer": "ipython3",
   "version": "3.11.4"
  }
 },
 "nbformat": 4,
 "nbformat_minor": 5
}
